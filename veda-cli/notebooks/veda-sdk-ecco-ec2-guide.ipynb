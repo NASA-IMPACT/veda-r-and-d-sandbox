{
 "cells": [
  {
   "cell_type": "markdown",
   "id": "0b6dee74",
   "metadata": {},
   "source": [
    "## VEDA Computing Platform\n",
    "\n",
    "### Key Features\n",
    "\n",
    "\n",
    "![image info](VEDA_Computing_Platform-analyis.drawio.png)"
   ]
  },
  {
   "cell_type": "code",
   "execution_count": null,
   "id": "3205b5f6",
   "metadata": {},
   "outputs": [],
   "source": [
    "# Run only if you haven't installed the VEDA SDK\n",
    "# ! pip3 install veda-cli==0.0.16"
   ]
  },
  {
   "cell_type": "code",
   "execution_count": 27,
   "id": "69438f32",
   "metadata": {},
   "outputs": [],
   "source": [
    "import veda_cli.datasets as datasets\n",
    "import veda_cli.applications as applications\n",
    "import veda_cli.applications.ecco.ecco_app as ecco_app\n",
    "import veda_cli.executions as executions\n",
    "import veda_cli.executions.ouput as output\n",
    "from airavata_mft_cli import storage as storage"
   ]
  },
  {
   "cell_type": "code",
   "execution_count": 45,
   "id": "bccec475",
   "metadata": {},
   "outputs": [
    {
     "data": {
      "text/html": [
       "<pre style=\"white-space:pre;overflow-x:auto;line-height:normal;font-family:Menlo,'DejaVu Sans Mono',consolas,'Courier New',monospace\">┏━━━━━━━━━━━━━━┳━━━━━━━━━━━━━━━━━━━━━━━━━━━━━┳━━━━━━━━━━━━━━━━┓\n",
       "┃<span style=\"font-weight: bold\"> Dataset Name </span>┃<span style=\"font-weight: bold\"> Description                 </span>┃<span style=\"font-weight: bold\"> Tags           </span>┃\n",
       "┡━━━━━━━━━━━━━━╇━━━━━━━━━━━━━━━━━━━━━━━━━━━━━╇━━━━━━━━━━━━━━━━┩\n",
       "│ ECCO-NASA-V4 │ NASA Hosted ECCO V4 Dataset │ OCEAN, CLIMATE │\n",
       "└──────────────┴─────────────────────────────┴────────────────┘\n",
       "</pre>\n"
      ],
      "text/plain": [
       "┏━━━━━━━━━━━━━━┳━━━━━━━━━━━━━━━━━━━━━━━━━━━━━┳━━━━━━━━━━━━━━━━┓\n",
       "┃\u001b[1m \u001b[0m\u001b[1mDataset Name\u001b[0m\u001b[1m \u001b[0m┃\u001b[1m \u001b[0m\u001b[1mDescription                \u001b[0m\u001b[1m \u001b[0m┃\u001b[1m \u001b[0m\u001b[1mTags          \u001b[0m\u001b[1m \u001b[0m┃\n",
       "┡━━━━━━━━━━━━━━╇━━━━━━━━━━━━━━━━━━━━━━━━━━━━━╇━━━━━━━━━━━━━━━━┩\n",
       "│ ECCO-NASA-V4 │ NASA Hosted ECCO V4 Dataset │ OCEAN, CLIMATE │\n",
       "└──────────────┴─────────────────────────────┴────────────────┘\n"
      ]
     },
     "metadata": {},
     "output_type": "display_data"
    }
   ],
   "source": [
    "# List all registered datasets\n",
    "\n",
    "datasets.list_datasets()"
   ]
  },
  {
   "cell_type": "code",
   "execution_count": 46,
   "id": "7b1e45ee",
   "metadata": {},
   "outputs": [
    {
     "data": {
      "text/html": [
       "<pre style=\"white-space:pre;overflow-x:auto;line-height:normal;font-family:Menlo,'DejaVu Sans Mono',consolas,'Courier New',monospace\">┏━━━━━━━━━━━━━━━━━━┳━━━━━━━━━━━━━━━━━━━━━━━━━━━━━━━━━━━━━━━━━━━━━━━━━━━━━┳━━━━━━━━━━━━━━━━━━━━━┓\n",
       "┃<span style=\"font-weight: bold\"> Application Name </span>┃<span style=\"font-weight: bold\"> Description                                         </span>┃<span style=\"font-weight: bold\">        Tags         </span>┃\n",
       "┡━━━━━━━━━━━━━━━━━━╇━━━━━━━━━━━━━━━━━━━━━━━━━━━━━━━━━━━━━━━━━━━━━━━━━━━━━╇━━━━━━━━━━━━━━━━━━━━━┩\n",
       "│ ECCO             │ Estimating the Circulation and Climate of the Ocean │   OCEAN, CLIMATE    │\n",
       "│ WRF              │ Weather Research &amp; Forecasting Model                │ WEATHER, FORCASTING │\n",
       "└──────────────────┴─────────────────────────────────────────────────────┴─────────────────────┘\n",
       "</pre>\n"
      ],
      "text/plain": [
       "┏━━━━━━━━━━━━━━━━━━┳━━━━━━━━━━━━━━━━━━━━━━━━━━━━━━━━━━━━━━━━━━━━━━━━━━━━━┳━━━━━━━━━━━━━━━━━━━━━┓\n",
       "┃\u001b[1m \u001b[0m\u001b[1mApplication Name\u001b[0m\u001b[1m \u001b[0m┃\u001b[1m \u001b[0m\u001b[1mDescription                                        \u001b[0m\u001b[1m \u001b[0m┃\u001b[1m \u001b[0m\u001b[1m       Tags        \u001b[0m\u001b[1m \u001b[0m┃\n",
       "┡━━━━━━━━━━━━━━━━━━╇━━━━━━━━━━━━━━━━━━━━━━━━━━━━━━━━━━━━━━━━━━━━━━━━━━━━━╇━━━━━━━━━━━━━━━━━━━━━┩\n",
       "│ ECCO             │ Estimating the Circulation and Climate of the Ocean │   OCEAN, CLIMATE    │\n",
       "│ WRF              │ Weather Research & Forecasting Model                │ WEATHER, FORCASTING │\n",
       "└──────────────────┴─────────────────────────────────────────────────────┴─────────────────────┘\n"
      ]
     },
     "metadata": {},
     "output_type": "display_data"
    }
   ],
   "source": [
    "# List all vailable applications in VEDA\n",
    "\n",
    "applications.list()"
   ]
  },
  {
   "cell_type": "code",
   "execution_count": null,
   "id": "a6856852",
   "metadata": {},
   "outputs": [],
   "source": [
    "# Run an ECCO simulation on EC2\n",
    "\n",
    "ecco_configs = {}\n",
    "ecco_configs['time_step'] =  3600\n",
    "ecco_configs['total_time_steps'] = 227903\n",
    "ecco_configs['gravity'] = 9.81\n",
    "ecco_configs['rhonil']= 1029\n",
    "ecco_configs['dataset_name'] = \"ECCO-NASA-V4\"\n",
    "\n",
    "ecco_app.run_ecco_on_ec2(\"ECCO Run Demo\", ecco_configs)"
   ]
  },
  {
   "cell_type": "code",
   "execution_count": 47,
   "id": "eea100f5",
   "metadata": {},
   "outputs": [
    {
     "data": {
      "text/html": [
       "<pre style=\"white-space:pre;overflow-x:auto;line-height:normal;font-family:Menlo,'DejaVu Sans Mono',consolas,'Courier New',monospace\">┏━━━━━━━━━━━━━━┳━━━━━━━━━━━━━┳━━━━━━━━━┳━━━━━━━━━━━━━━━━━━━━━━┓\n",
       "┃<span style=\"font-weight: bold\"> Execution Id </span>┃<span style=\"font-weight: bold\"> Application </span>┃<span style=\"font-weight: bold\"> Runtime </span>┃<span style=\"font-weight: bold\"> Created Time         </span>┃\n",
       "┡━━━━━━━━━━━━━━╇━━━━━━━━━━━━━╇━━━━━━━━━╇━━━━━━━━━━━━━━━━━━━━━━┩\n",
       "│ bz1z9        │ ECCO        │ EC2     │ 05/03/2023, 11:37:47 │\n",
       "│ wcak3        │ ECCO        │ EC2     │ 05/03/2023, 14:28:29 │\n",
       "└──────────────┴─────────────┴─────────┴──────────────────────┘\n",
       "</pre>\n"
      ],
      "text/plain": [
       "┏━━━━━━━━━━━━━━┳━━━━━━━━━━━━━┳━━━━━━━━━┳━━━━━━━━━━━━━━━━━━━━━━┓\n",
       "┃\u001b[1m \u001b[0m\u001b[1mExecution Id\u001b[0m\u001b[1m \u001b[0m┃\u001b[1m \u001b[0m\u001b[1mApplication\u001b[0m\u001b[1m \u001b[0m┃\u001b[1m \u001b[0m\u001b[1mRuntime\u001b[0m\u001b[1m \u001b[0m┃\u001b[1m \u001b[0m\u001b[1mCreated Time        \u001b[0m\u001b[1m \u001b[0m┃\n",
       "┡━━━━━━━━━━━━━━╇━━━━━━━━━━━━━╇━━━━━━━━━╇━━━━━━━━━━━━━━━━━━━━━━┩\n",
       "│ bz1z9        │ ECCO        │ EC2     │ 05/03/2023, 11:37:47 │\n",
       "│ wcak3        │ ECCO        │ EC2     │ 05/03/2023, 14:28:29 │\n",
       "└──────────────┴─────────────┴─────────┴──────────────────────┘\n"
      ]
     },
     "metadata": {},
     "output_type": "display_data"
    }
   ],
   "source": [
    "# List all running executions\n",
    "\n",
    "executions.list_executions()"
   ]
  },
  {
   "cell_type": "code",
   "execution_count": 29,
   "id": "a257ba1b",
   "metadata": {},
   "outputs": [
    {
     "data": {
      "text/html": [
       "<pre style=\"white-space:pre;overflow-x:auto;line-height:normal;font-family:Menlo,'DejaVu Sans Mono',consolas,'Courier New',monospace\">┏━━━━━━━━━━━━━━━━━━━┳━━━━━━┳━━━━━━┓\n",
       "┃<span style=\"font-weight: bold\"> Name              </span>┃<span style=\"font-weight: bold\"> Type </span>┃<span style=\"font-weight: bold\"> Size </span>┃\n",
       "┡━━━━━━━━━━━━━━━━━━━╇━━━━━━╇━━━━━━┩\n",
       "│ <span style=\"font-weight: bold\">EXFevap_mon_mean</span>  │ DIR  │      │\n",
       "│ <span style=\"font-weight: bold\">GM_PsiX_mon_mean</span>  │ DIR  │      │\n",
       "│ <span style=\"font-weight: bold\">oceQnet_mon_mean</span>  │ DIR  │      │\n",
       "│ <span style=\"font-weight: bold\">oceSPflx_mon_mean</span> │ DIR  │      │\n",
       "│ <span style=\"font-weight: bold\">OBP_mon_mean</span>      │ DIR  │      │\n",
       "│ <span style=\"font-weight: bold\">EXFpress_mon_mean</span> │ DIR  │      │\n",
       "│ <span style=\"font-weight: bold\">DFxEHEFF_mon_mean</span> │ DIR  │      │\n",
       "│ <span style=\"font-weight: bold\">EXFswnet_mon_mean</span> │ DIR  │      │\n",
       "│ <span style=\"font-weight: bold\">SSHIBC_mon_mean</span>   │ DIR  │      │\n",
       "│ <span style=\"font-weight: bold\">DFrE_TH_mon_mean</span>  │ DIR  │      │\n",
       "│ <span style=\"font-weight: bold\">oceQsw_mon_mean</span>   │ DIR  │      │\n",
       "│ <span style=\"font-weight: bold\">DFyEHEFF_mon_mean</span> │ DIR  │      │\n",
       "│ <span style=\"font-weight: bold\">EXFswdn_mon_mean</span>  │ DIR  │      │\n",
       "│ <span style=\"font-weight: bold\">OBPGMAP_mon_mean</span>  │ DIR  │      │\n",
       "│ <span style=\"font-weight: bold\">EXFtaux_mon_mean</span>  │ DIR  │      │\n",
       "│ <span style=\"font-weight: bold\">Um_dPHdx_mon_mean</span> │ DIR  │      │\n",
       "│ <span style=\"font-weight: bold\">ADVySNOW_mon_mean</span> │ DIR  │      │\n",
       "│ <span style=\"font-weight: bold\">VVEL_mon_mean</span>     │ DIR  │      │\n",
       "│ <span style=\"font-weight: bold\">EXFatemp_mon_mean</span> │ DIR  │      │\n",
       "│ <span style=\"font-weight: bold\">UVEL_mon_mean</span>     │ DIR  │      │\n",
       "│ <span style=\"font-weight: bold\">SIatmQnt_mon_mean</span> │ DIR  │      │\n",
       "│ <span style=\"font-weight: bold\">SSH_mon_mean</span>      │ DIR  │      │\n",
       "│ <span style=\"font-weight: bold\">SIheff_mon_mean</span>   │ DIR  │      │\n",
       "│ <span style=\"font-weight: bold\">ADVx_TH_mon_mean</span>  │ DIR  │      │\n",
       "│ <span style=\"font-weight: bold\">Vm_dPHdy_mon_mean</span> │ DIR  │      │\n",
       "│ <span style=\"font-weight: bold\">SIhsnow_mon_mean</span>  │ DIR  │      │\n",
       "│ <span style=\"font-weight: bold\">SIacSubl_mon_mean</span> │ DIR  │      │\n",
       "│ <span style=\"font-weight: bold\">SIheff_mon_inst</span>   │ DIR  │      │\n",
       "│ <span style=\"font-weight: bold\">EXFlwnet_mon_mean</span> │ DIR  │      │\n",
       "│ <span style=\"font-weight: bold\">DFrI_TH_mon_mean</span>  │ DIR  │      │\n",
       "│ <span style=\"font-weight: bold\">SIvice_mon_mean</span>   │ DIR  │      │\n",
       "│ <span style=\"font-weight: bold\">ADVr_SLT_mon_mean</span> │ DIR  │      │\n",
       "│ <span style=\"font-weight: bold\">SSHNOIBC_mon_mean</span> │ DIR  │      │\n",
       "│ <span style=\"font-weight: bold\">DFxESNOW_mon_mean</span> │ DIR  │      │\n",
       "│ <span style=\"font-weight: bold\">THETA_mon_mean</span>    │ DIR  │      │\n",
       "│ <span style=\"font-weight: bold\">SIrsSubl_mon_mean</span> │ DIR  │      │\n",
       "│ <span style=\"font-weight: bold\">ADVyHEFF_mon_mean</span> │ DIR  │      │\n",
       "│ <span style=\"font-weight: bold\">EXFhl_mon_mean</span>    │ DIR  │      │\n",
       "│ <span style=\"font-weight: bold\">EXFtauy_mon_mean</span>  │ DIR  │      │\n",
       "│ <span style=\"font-weight: bold\">DFyE_TH_mon_mean</span>  │ DIR  │      │\n",
       "│ <span style=\"font-weight: bold\">ADVx_SLT_mon_mean</span> │ DIR  │      │\n",
       "│ <span style=\"font-weight: bold\">UVELMASS_mon_mean</span> │ DIR  │      │\n",
       "│ <span style=\"font-weight: bold\">DFrI_SLT_mon_mean</span> │ DIR  │      │\n",
       "│ <span style=\"font-weight: bold\">DFxE_SLT_mon_mean</span> │ DIR  │      │\n",
       "│ <span style=\"font-weight: bold\">EXFlwdn_mon_mean</span>  │ DIR  │      │\n",
       "│ <span style=\"font-weight: bold\">SIhsnow_mon_inst</span>  │ DIR  │      │\n",
       "│ <span style=\"font-weight: bold\">ADVxSNOW_mon_mean</span> │ DIR  │      │\n",
       "│ <span style=\"font-weight: bold\">sIceLoad_mon_mean</span> │ DIR  │      │\n",
       "│ <span style=\"font-weight: bold\">WVELMASS_mon_mean</span> │ DIR  │      │\n",
       "│ <span style=\"font-weight: bold\">SALT_mon_mean</span>     │ DIR  │      │\n",
       "│ <span style=\"font-weight: bold\">ETAN_mon_inst</span>     │ DIR  │      │\n",
       "│ <span style=\"font-weight: bold\">EXFhs_mon_mean</span>    │ DIR  │      │\n",
       "│ <span style=\"font-weight: bold\">EXFuwind_mon_mean</span> │ DIR  │      │\n",
       "│ <span style=\"font-weight: bold\">TFLUX_mon_mean</span>    │ DIR  │      │\n",
       "│ <span style=\"font-weight: bold\">PHIHYDcR_mon_mean</span> │ DIR  │      │\n",
       "│ <span style=\"font-weight: bold\">PHIHYD_mon_mean</span>   │ DIR  │      │\n",
       "│ <span style=\"font-weight: bold\">EXFqnet_mon_mean</span>  │ DIR  │      │\n",
       "│ <span style=\"font-weight: bold\">EXFwspee_mon_mean</span> │ DIR  │      │\n",
       "│ <span style=\"font-weight: bold\">SIarea_mon_mean</span>   │ DIR  │      │\n",
       "│ <span style=\"font-weight: bold\">ADVr_TH_mon_mean</span>  │ DIR  │      │\n",
       "│ <span style=\"font-weight: bold\">EXFempmr_mon_mean</span> │ DIR  │      │\n",
       "│ <span style=\"font-weight: bold\">SIaaflux_mon_mean</span> │ DIR  │      │\n",
       "│ <span style=\"font-weight: bold\">ADVy_TH_mon_mean</span>  │ DIR  │      │\n",
       "│ <span style=\"font-weight: bold\">SFLUX_mon_mean</span>    │ DIR  │      │\n",
       "│ <span style=\"font-weight: bold\">PHIBOT_mon_mean</span>   │ DIR  │      │\n",
       "│ <span style=\"font-weight: bold\">ADVy_SLT_mon_mean</span> │ DIR  │      │\n",
       "│ <span style=\"font-weight: bold\">SIuice_mon_mean</span>   │ DIR  │      │\n",
       "│ <span style=\"font-weight: bold\">SIsnPrcp_mon_mean</span> │ DIR  │      │\n",
       "│ <span style=\"font-weight: bold\">ETAN_mon_mean</span>     │ DIR  │      │\n",
       "│ <span style=\"font-weight: bold\">oceSPtnd_mon_mean</span> │ DIR  │      │\n",
       "│ <span style=\"font-weight: bold\">MXLDEPTH_mon_mean</span> │ DIR  │      │\n",
       "│ <span style=\"font-weight: bold\">ADVxHEFF_mon_mean</span> │ DIR  │      │\n",
       "│ <span style=\"font-weight: bold\">oceSPDep_mon_mean</span> │ DIR  │      │\n",
       "│ <span style=\"font-weight: bold\">EXFaqh_mon_mean</span>   │ DIR  │      │\n",
       "│ <span style=\"font-weight: bold\">SALT_mon_inst</span>     │ DIR  │      │\n",
       "│ <span style=\"font-weight: bold\">EXFvwind_mon_mean</span> │ DIR  │      │\n",
       "│ <span style=\"font-weight: bold\">DFyESNOW_mon_mean</span> │ DIR  │      │\n",
       "│ <span style=\"font-weight: bold\">DFyE_SLT_mon_mean</span> │ DIR  │      │\n",
       "│ <span style=\"font-weight: bold\">RHOAnoma_mon_mean</span> │ DIR  │      │\n",
       "│ <span style=\"font-weight: bold\">DFrE_SLT_mon_mean</span> │ DIR  │      │\n",
       "│ <span style=\"font-weight: bold\">DFxE_TH_mon_mean</span>  │ DIR  │      │\n",
       "│ <span style=\"font-weight: bold\">DRHODR_mon_mean</span>   │ DIR  │      │\n",
       "│ <span style=\"font-weight: bold\">EXFroff_mon_mean</span>  │ DIR  │      │\n",
       "│ <span style=\"font-weight: bold\">SIatmFW_mon_mean</span>  │ DIR  │      │\n",
       "│ <span style=\"font-weight: bold\">THETA_mon_inst</span>    │ DIR  │      │\n",
       "│ <span style=\"font-weight: bold\">GM_PsiY_mon_mean</span>  │ DIR  │      │\n",
       "│ <span style=\"font-weight: bold\">VVELMASS_mon_mean</span> │ DIR  │      │\n",
       "│ <span style=\"font-weight: bold\">SIfwThru_mon_mean</span> │ DIR  │      │\n",
       "│ <span style=\"font-weight: bold\">oceFWflx_mon_mean</span> │ DIR  │      │\n",
       "│ <span style=\"font-weight: bold\">oceTAUY_mon_mean</span>  │ DIR  │      │\n",
       "│ <span style=\"font-weight: bold\">EXFpreci_mon_mean</span> │ DIR  │      │\n",
       "│ <span style=\"font-weight: bold\">oceTAUX_mon_mean</span>  │ DIR  │      │\n",
       "└───────────────────┴──────┴──────┘\n",
       "</pre>\n"
      ],
      "text/plain": [
       "┏━━━━━━━━━━━━━━━━━━━┳━━━━━━┳━━━━━━┓\n",
       "┃\u001b[1m \u001b[0m\u001b[1mName             \u001b[0m\u001b[1m \u001b[0m┃\u001b[1m \u001b[0m\u001b[1mType\u001b[0m\u001b[1m \u001b[0m┃\u001b[1m \u001b[0m\u001b[1mSize\u001b[0m\u001b[1m \u001b[0m┃\n",
       "┡━━━━━━━━━━━━━━━━━━━╇━━━━━━╇━━━━━━┩\n",
       "│ \u001b[1mEXFevap_mon_mean\u001b[0m  │ DIR  │      │\n",
       "│ \u001b[1mGM_PsiX_mon_mean\u001b[0m  │ DIR  │      │\n",
       "│ \u001b[1moceQnet_mon_mean\u001b[0m  │ DIR  │      │\n",
       "│ \u001b[1moceSPflx_mon_mean\u001b[0m │ DIR  │      │\n",
       "│ \u001b[1mOBP_mon_mean\u001b[0m      │ DIR  │      │\n",
       "│ \u001b[1mEXFpress_mon_mean\u001b[0m │ DIR  │      │\n",
       "│ \u001b[1mDFxEHEFF_mon_mean\u001b[0m │ DIR  │      │\n",
       "│ \u001b[1mEXFswnet_mon_mean\u001b[0m │ DIR  │      │\n",
       "│ \u001b[1mSSHIBC_mon_mean\u001b[0m   │ DIR  │      │\n",
       "│ \u001b[1mDFrE_TH_mon_mean\u001b[0m  │ DIR  │      │\n",
       "│ \u001b[1moceQsw_mon_mean\u001b[0m   │ DIR  │      │\n",
       "│ \u001b[1mDFyEHEFF_mon_mean\u001b[0m │ DIR  │      │\n",
       "│ \u001b[1mEXFswdn_mon_mean\u001b[0m  │ DIR  │      │\n",
       "│ \u001b[1mOBPGMAP_mon_mean\u001b[0m  │ DIR  │      │\n",
       "│ \u001b[1mEXFtaux_mon_mean\u001b[0m  │ DIR  │      │\n",
       "│ \u001b[1mUm_dPHdx_mon_mean\u001b[0m │ DIR  │      │\n",
       "│ \u001b[1mADVySNOW_mon_mean\u001b[0m │ DIR  │      │\n",
       "│ \u001b[1mVVEL_mon_mean\u001b[0m     │ DIR  │      │\n",
       "│ \u001b[1mEXFatemp_mon_mean\u001b[0m │ DIR  │      │\n",
       "│ \u001b[1mUVEL_mon_mean\u001b[0m     │ DIR  │      │\n",
       "│ \u001b[1mSIatmQnt_mon_mean\u001b[0m │ DIR  │      │\n",
       "│ \u001b[1mSSH_mon_mean\u001b[0m      │ DIR  │      │\n",
       "│ \u001b[1mSIheff_mon_mean\u001b[0m   │ DIR  │      │\n",
       "│ \u001b[1mADVx_TH_mon_mean\u001b[0m  │ DIR  │      │\n",
       "│ \u001b[1mVm_dPHdy_mon_mean\u001b[0m │ DIR  │      │\n",
       "│ \u001b[1mSIhsnow_mon_mean\u001b[0m  │ DIR  │      │\n",
       "│ \u001b[1mSIacSubl_mon_mean\u001b[0m │ DIR  │      │\n",
       "│ \u001b[1mSIheff_mon_inst\u001b[0m   │ DIR  │      │\n",
       "│ \u001b[1mEXFlwnet_mon_mean\u001b[0m │ DIR  │      │\n",
       "│ \u001b[1mDFrI_TH_mon_mean\u001b[0m  │ DIR  │      │\n",
       "│ \u001b[1mSIvice_mon_mean\u001b[0m   │ DIR  │      │\n",
       "│ \u001b[1mADVr_SLT_mon_mean\u001b[0m │ DIR  │      │\n",
       "│ \u001b[1mSSHNOIBC_mon_mean\u001b[0m │ DIR  │      │\n",
       "│ \u001b[1mDFxESNOW_mon_mean\u001b[0m │ DIR  │      │\n",
       "│ \u001b[1mTHETA_mon_mean\u001b[0m    │ DIR  │      │\n",
       "│ \u001b[1mSIrsSubl_mon_mean\u001b[0m │ DIR  │      │\n",
       "│ \u001b[1mADVyHEFF_mon_mean\u001b[0m │ DIR  │      │\n",
       "│ \u001b[1mEXFhl_mon_mean\u001b[0m    │ DIR  │      │\n",
       "│ \u001b[1mEXFtauy_mon_mean\u001b[0m  │ DIR  │      │\n",
       "│ \u001b[1mDFyE_TH_mon_mean\u001b[0m  │ DIR  │      │\n",
       "│ \u001b[1mADVx_SLT_mon_mean\u001b[0m │ DIR  │      │\n",
       "│ \u001b[1mUVELMASS_mon_mean\u001b[0m │ DIR  │      │\n",
       "│ \u001b[1mDFrI_SLT_mon_mean\u001b[0m │ DIR  │      │\n",
       "│ \u001b[1mDFxE_SLT_mon_mean\u001b[0m │ DIR  │      │\n",
       "│ \u001b[1mEXFlwdn_mon_mean\u001b[0m  │ DIR  │      │\n",
       "│ \u001b[1mSIhsnow_mon_inst\u001b[0m  │ DIR  │      │\n",
       "│ \u001b[1mADVxSNOW_mon_mean\u001b[0m │ DIR  │      │\n",
       "│ \u001b[1msIceLoad_mon_mean\u001b[0m │ DIR  │      │\n",
       "│ \u001b[1mWVELMASS_mon_mean\u001b[0m │ DIR  │      │\n",
       "│ \u001b[1mSALT_mon_mean\u001b[0m     │ DIR  │      │\n",
       "│ \u001b[1mETAN_mon_inst\u001b[0m     │ DIR  │      │\n",
       "│ \u001b[1mEXFhs_mon_mean\u001b[0m    │ DIR  │      │\n",
       "│ \u001b[1mEXFuwind_mon_mean\u001b[0m │ DIR  │      │\n",
       "│ \u001b[1mTFLUX_mon_mean\u001b[0m    │ DIR  │      │\n",
       "│ \u001b[1mPHIHYDcR_mon_mean\u001b[0m │ DIR  │      │\n",
       "│ \u001b[1mPHIHYD_mon_mean\u001b[0m   │ DIR  │      │\n",
       "│ \u001b[1mEXFqnet_mon_mean\u001b[0m  │ DIR  │      │\n",
       "│ \u001b[1mEXFwspee_mon_mean\u001b[0m │ DIR  │      │\n",
       "│ \u001b[1mSIarea_mon_mean\u001b[0m   │ DIR  │      │\n",
       "│ \u001b[1mADVr_TH_mon_mean\u001b[0m  │ DIR  │      │\n",
       "│ \u001b[1mEXFempmr_mon_mean\u001b[0m │ DIR  │      │\n",
       "│ \u001b[1mSIaaflux_mon_mean\u001b[0m │ DIR  │      │\n",
       "│ \u001b[1mADVy_TH_mon_mean\u001b[0m  │ DIR  │      │\n",
       "│ \u001b[1mSFLUX_mon_mean\u001b[0m    │ DIR  │      │\n",
       "│ \u001b[1mPHIBOT_mon_mean\u001b[0m   │ DIR  │      │\n",
       "│ \u001b[1mADVy_SLT_mon_mean\u001b[0m │ DIR  │      │\n",
       "│ \u001b[1mSIuice_mon_mean\u001b[0m   │ DIR  │      │\n",
       "│ \u001b[1mSIsnPrcp_mon_mean\u001b[0m │ DIR  │      │\n",
       "│ \u001b[1mETAN_mon_mean\u001b[0m     │ DIR  │      │\n",
       "│ \u001b[1moceSPtnd_mon_mean\u001b[0m │ DIR  │      │\n",
       "│ \u001b[1mMXLDEPTH_mon_mean\u001b[0m │ DIR  │      │\n",
       "│ \u001b[1mADVxHEFF_mon_mean\u001b[0m │ DIR  │      │\n",
       "│ \u001b[1moceSPDep_mon_mean\u001b[0m │ DIR  │      │\n",
       "│ \u001b[1mEXFaqh_mon_mean\u001b[0m   │ DIR  │      │\n",
       "│ \u001b[1mSALT_mon_inst\u001b[0m     │ DIR  │      │\n",
       "│ \u001b[1mEXFvwind_mon_mean\u001b[0m │ DIR  │      │\n",
       "│ \u001b[1mDFyESNOW_mon_mean\u001b[0m │ DIR  │      │\n",
       "│ \u001b[1mDFyE_SLT_mon_mean\u001b[0m │ DIR  │      │\n",
       "│ \u001b[1mRHOAnoma_mon_mean\u001b[0m │ DIR  │      │\n",
       "│ \u001b[1mDFrE_SLT_mon_mean\u001b[0m │ DIR  │      │\n",
       "│ \u001b[1mDFxE_TH_mon_mean\u001b[0m  │ DIR  │      │\n",
       "│ \u001b[1mDRHODR_mon_mean\u001b[0m   │ DIR  │      │\n",
       "│ \u001b[1mEXFroff_mon_mean\u001b[0m  │ DIR  │      │\n",
       "│ \u001b[1mSIatmFW_mon_mean\u001b[0m  │ DIR  │      │\n",
       "│ \u001b[1mTHETA_mon_inst\u001b[0m    │ DIR  │      │\n",
       "│ \u001b[1mGM_PsiY_mon_mean\u001b[0m  │ DIR  │      │\n",
       "│ \u001b[1mVVELMASS_mon_mean\u001b[0m │ DIR  │      │\n",
       "│ \u001b[1mSIfwThru_mon_mean\u001b[0m │ DIR  │      │\n",
       "│ \u001b[1moceFWflx_mon_mean\u001b[0m │ DIR  │      │\n",
       "│ \u001b[1moceTAUY_mon_mean\u001b[0m  │ DIR  │      │\n",
       "│ \u001b[1mEXFpreci_mon_mean\u001b[0m │ DIR  │      │\n",
       "│ \u001b[1moceTAUX_mon_mean\u001b[0m  │ DIR  │      │\n",
       "└───────────────────┴──────┴──────┘\n"
      ]
     },
     "metadata": {},
     "output_type": "display_data"
    }
   ],
   "source": [
    "# List outputs\n",
    "\n",
    "output.list_outputs(executionid = \"wcak3\", prefix = \"\")\n",
    "# output.list_outputs(executionid = \"wcak3\", prefix = \"SSH_mon_mean\")"
   ]
  },
  {
   "cell_type": "code",
   "execution_count": 36,
   "id": "79f0b959",
   "metadata": {},
   "outputs": [
    {
     "name": "stdout",
     "output_type": "stream",
     "text": [
      "Registring the dataset\n",
      "utf-8\n"
     ]
    }
   ],
   "source": [
    "# Register a dataset in VEDA \n",
    "\n",
    "datasets.register_dataset(execution_id=\"wcak3\", \n",
    "                          dataset_name=\"SSH_mon_mean_wcak3\", \n",
    "                          dataset_path=\"SSH_mon_mean\")"
   ]
  },
  {
   "cell_type": "code",
   "execution_count": 37,
   "id": "f36a4d00",
   "metadata": {},
   "outputs": [
    {
     "name": "stdout",
     "output_type": "stream",
     "text": [
      "Registring custom datasets\n",
      "utf-8\n"
     ]
    }
   ],
   "source": [
    "# Register a custom dataset in VEDA \n",
    "\n",
    "datasets.register_custom_dataset(execution_id=\"wcak3\",\n",
    "                                 dataset_name = 'Metadata_For_SSH_wcak3',\n",
    "                          dataset_base_path=\"/home/ubuntu/MITgcm/ECCOV4/release4/run\", \n",
    "                          dataset_paths = ['AngleCS.data','DYC.meta','RAC.data','RF.meta',\n",
    "                                           'YG.meta','AngleCS.meta','DYG.meta','RAC.meta','RhoRef.data',\n",
    "                                           'available_diagnostics.log','AngleSN.data','Depth.data',\n",
    "                                           'RAS.meta','RhoRef.meta','hFacC.meta','AngleSN.meta','Depth.meta',\n",
    "                                           'RAW.data','XC.data','hFacS.meta','DRC.data','KapGM.meta',\n",
    "                                           'RAW.meta','XC.meta','hFacW.meta','DRC.meta','KapRedi.meta',\n",
    "                                           'RAZ.data','XG.data','maskCtrlC.meta','DRF.data','PHrefC.data',\n",
    "                                           'RAZ.meta','XG.meta','maskCtrlS.meta','DRF.meta','PHrefC.meta',\n",
    "                                           'RC.data','YC.data','maskCtrlW.meta','DXC.meta','PHrefF.data',\n",
    "                                           'RC.meta','YC.meta','DXG.meta','PHrefF.meta','RF.data','YG.data'])\n"
   ]
  },
  {
   "cell_type": "code",
   "execution_count": 38,
   "id": "2eaeb239",
   "metadata": {},
   "outputs": [
    {
     "data": {
      "text/html": [
       "<pre style=\"white-space:pre;overflow-x:auto;line-height:normal;font-family:Menlo,'DejaVu Sans Mono',consolas,'Courier New',monospace\">┏━━━━━━━━━━━━━━━━━━━━━━━━┳━━━━━━━━━━━━━━━━━━━━━━━━━━━━━━━━━━━━━━━━━━━━━━━━━━━━━━━━━━━━━━━━━━━┳━━━━━━━━━━━━━━━━┓\n",
       "┃<span style=\"font-weight: bold\"> Dataset Name           </span>┃<span style=\"font-weight: bold\"> Description                                                       </span>┃<span style=\"font-weight: bold\"> Tags           </span>┃\n",
       "┡━━━━━━━━━━━━━━━━━━━━━━━━╇━━━━━━━━━━━━━━━━━━━━━━━━━━━━━━━━━━━━━━━━━━━━━━━━━━━━━━━━━━━━━━━━━━━╇━━━━━━━━━━━━━━━━┩\n",
       "│ ECCO-NASA-V4           │ NASA Hosted ECCO V4 Dataset                                       │ OCEAN, CLIMATE │\n",
       "│ SSH_mon_mean_wcak3     │ Replica available in storage e5e8d69d-b6bb-4d9c-8902-de55746f2ec2 │ CUSTOM         │\n",
       "│ Metadata_For_SSH_wcak3 │ Replica available in storage e5e8d69d-b6bb-4d9c-8902-de55746f2ec2 │ CUSTOM         │\n",
       "└────────────────────────┴───────────────────────────────────────────────────────────────────┴────────────────┘\n",
       "</pre>\n"
      ],
      "text/plain": [
       "┏━━━━━━━━━━━━━━━━━━━━━━━━┳━━━━━━━━━━━━━━━━━━━━━━━━━━━━━━━━━━━━━━━━━━━━━━━━━━━━━━━━━━━━━━━━━━━┳━━━━━━━━━━━━━━━━┓\n",
       "┃\u001b[1m \u001b[0m\u001b[1mDataset Name          \u001b[0m\u001b[1m \u001b[0m┃\u001b[1m \u001b[0m\u001b[1mDescription                                                      \u001b[0m\u001b[1m \u001b[0m┃\u001b[1m \u001b[0m\u001b[1mTags          \u001b[0m\u001b[1m \u001b[0m┃\n",
       "┡━━━━━━━━━━━━━━━━━━━━━━━━╇━━━━━━━━━━━━━━━━━━━━━━━━━━━━━━━━━━━━━━━━━━━━━━━━━━━━━━━━━━━━━━━━━━━╇━━━━━━━━━━━━━━━━┩\n",
       "│ ECCO-NASA-V4           │ NASA Hosted ECCO V4 Dataset                                       │ OCEAN, CLIMATE │\n",
       "│ SSH_mon_mean_wcak3     │ Replica available in storage e5e8d69d-b6bb-4d9c-8902-de55746f2ec2 │ CUSTOM         │\n",
       "│ Metadata_For_SSH_wcak3 │ Replica available in storage e5e8d69d-b6bb-4d9c-8902-de55746f2ec2 │ CUSTOM         │\n",
       "└────────────────────────┴───────────────────────────────────────────────────────────────────┴────────────────┘\n"
      ]
     },
     "metadata": {},
     "output_type": "display_data"
    }
   ],
   "source": [
    "datasets.list_datasets()"
   ]
  },
  {
   "cell_type": "code",
   "execution_count": 39,
   "id": "73b847d8",
   "metadata": {},
   "outputs": [
    {
     "data": {
      "text/html": [
       "<pre style=\"white-space:pre;overflow-x:auto;line-height:normal;font-family:Menlo,'DejaVu Sans Mono',consolas,'Courier New',monospace\">┏━━━━━━━━━━━━━━━━━━━━━━━━┳━━━━━━━┳━━━━━━━━━━━━━━━━━━━━━━━━━━━━━━━━━━━━━━┓\n",
       "┃<span style=\"color: #2070b2; text-decoration-color: #2070b2; font-weight: bold\"> Storage Name           </span>┃<span style=\"color: #2070b2; text-decoration-color: #2070b2; font-weight: bold\"> Type  </span>┃<span style=\"color: #2070b2; text-decoration-color: #2070b2; font-weight: bold\">              Storage ID              </span>┃\n",
       "┡━━━━━━━━━━━━━━━━━━━━━━━━╇━━━━━━━╇━━━━━━━━━━━━━━━━━━━━━━━━━━━━━━━━━━━━━━┩\n",
       "│ <span style=\"font-weight: bold\">local-agent</span>            │ LOCAL │ 504643b6-f813-4aa1-8e66-2533cb4f837c │\n",
       "│ <span style=\"font-weight: bold\">Dimuthu ECCO 2 storage</span> │  SCP  │ 56a4543c-6106-4db3-94e7-70883bbd28e4 │\n",
       "│ <span style=\"font-weight: bold\">ecco-dataset</span>           │  S3   │ 96fef31e-cf07-4170-b5f5-eca6ac86964f │\n",
       "│ <span style=\"font-weight: bold\">ECCO Run Demo storage</span>  │  SCP  │ 1bfe8c1f-9722-4896-9743-130c34960779 │\n",
       "│ <span style=\"font-weight: bold\">VEDA ECCO Run storage</span>  │  SCP  │ 756a84c6-cf30-4299-83c9-57bd2868fd2e │\n",
       "│ <span style=\"font-weight: bold\">VEDA ECCO V4 storage</span>   │  SCP  │ e5e8d69d-b6bb-4d9c-8902-de55746f2ec2 │\n",
       "└────────────────────────┴───────┴──────────────────────────────────────┘\n",
       "</pre>\n"
      ],
      "text/plain": [
       "┏━━━━━━━━━━━━━━━━━━━━━━━━┳━━━━━━━┳━━━━━━━━━━━━━━━━━━━━━━━━━━━━━━━━━━━━━━┓\n",
       "┃\u001b[1;38;2;32;112;178m \u001b[0m\u001b[1;38;2;32;112;178mStorage Name          \u001b[0m\u001b[1;38;2;32;112;178m \u001b[0m┃\u001b[1;38;2;32;112;178m \u001b[0m\u001b[1;38;2;32;112;178mType \u001b[0m\u001b[1;38;2;32;112;178m \u001b[0m┃\u001b[1;38;2;32;112;178m \u001b[0m\u001b[1;38;2;32;112;178m             Storage ID             \u001b[0m\u001b[1;38;2;32;112;178m \u001b[0m┃\n",
       "┡━━━━━━━━━━━━━━━━━━━━━━━━╇━━━━━━━╇━━━━━━━━━━━━━━━━━━━━━━━━━━━━━━━━━━━━━━┩\n",
       "│ \u001b[1mlocal-agent\u001b[0m            │ LOCAL │ 504643b6-f813-4aa1-8e66-2533cb4f837c │\n",
       "│ \u001b[1mDimuthu ECCO 2 storage\u001b[0m │  SCP  │ 56a4543c-6106-4db3-94e7-70883bbd28e4 │\n",
       "│ \u001b[1mecco-dataset\u001b[0m           │  S3   │ 96fef31e-cf07-4170-b5f5-eca6ac86964f │\n",
       "│ \u001b[1mECCO Run Demo storage\u001b[0m  │  SCP  │ 1bfe8c1f-9722-4896-9743-130c34960779 │\n",
       "│ \u001b[1mVEDA ECCO Run storage\u001b[0m  │  SCP  │ 756a84c6-cf30-4299-83c9-57bd2868fd2e │\n",
       "│ \u001b[1mVEDA ECCO V4 storage\u001b[0m   │  SCP  │ e5e8d69d-b6bb-4d9c-8902-de55746f2ec2 │\n",
       "└────────────────────────┴───────┴──────────────────────────────────────┘\n"
      ]
     },
     "metadata": {},
     "output_type": "display_data"
    }
   ],
   "source": [
    "# List all available storages in current VEDA account\n",
    "\n",
    "storage.list_storage()"
   ]
  },
  {
   "cell_type": "code",
   "execution_count": 41,
   "id": "050ad6bc",
   "metadata": {},
   "outputs": [
    {
     "name": "stdout",
     "output_type": "stream",
     "text": [
      "Publishing the Dataset to storage 96fef31e-cf07-4170-b5f5-eca6ac86964f\n",
      "Total number of 6 files to be transferred. Total volume is 1264533 bytes. Do you want to start the transfer?  [Y/n]: Y\n",
      "\n",
      "Processed 6 files. Completed 6, Failed 0.\n",
      "utf-8\n"
     ]
    }
   ],
   "source": [
    "datasets.copy_dataset(dataset_name = \"SSH_mon_mean_wcak3\", \n",
    "                      target_storage = \"96fef31e-cf07-4170-b5f5-eca6ac86964f\")\n",
    "\n"
   ]
  },
  {
   "cell_type": "code",
   "execution_count": 42,
   "id": "fba71b2c",
   "metadata": {},
   "outputs": [
    {
     "data": {
      "text/html": [
       "<pre style=\"white-space:pre;overflow-x:auto;line-height:normal;font-family:Menlo,'DejaVu Sans Mono',consolas,'Courier New',monospace\">┏━━━━━━━━━━━━━━━━━━━━━━━━┳━━━━━━━━━━━━━━━━━━━━━━━━━━━━━━━━━━━━━━━━━━━━━━━━━━━━━━━━━━━━━━━━━━━┳━━━━━━━━━━━━━━━━┓\n",
       "┃<span style=\"font-weight: bold\"> Dataset Name           </span>┃<span style=\"font-weight: bold\"> Description                                                       </span>┃<span style=\"font-weight: bold\"> Tags           </span>┃\n",
       "┡━━━━━━━━━━━━━━━━━━━━━━━━╇━━━━━━━━━━━━━━━━━━━━━━━━━━━━━━━━━━━━━━━━━━━━━━━━━━━━━━━━━━━━━━━━━━━╇━━━━━━━━━━━━━━━━┩\n",
       "│ ECCO-NASA-V4           │ NASA Hosted ECCO V4 Dataset                                       │ OCEAN, CLIMATE │\n",
       "│ SSH_mon_mean_wcak3     │ Replica available in storage e5e8d69d-b6bb-4d9c-8902-de55746f2ec2 │ CUSTOM         │\n",
       "│ Metadata_For_SSH_wcak3 │ Replica available in storage e5e8d69d-b6bb-4d9c-8902-de55746f2ec2 │ CUSTOM         │\n",
       "│ SSH_mon_mean_wcak3     │ Replica available in storage 96fef31e-cf07-4170-b5f5-eca6ac86964f │ CUSTOM         │\n",
       "└────────────────────────┴───────────────────────────────────────────────────────────────────┴────────────────┘\n",
       "</pre>\n"
      ],
      "text/plain": [
       "┏━━━━━━━━━━━━━━━━━━━━━━━━┳━━━━━━━━━━━━━━━━━━━━━━━━━━━━━━━━━━━━━━━━━━━━━━━━━━━━━━━━━━━━━━━━━━━┳━━━━━━━━━━━━━━━━┓\n",
       "┃\u001b[1m \u001b[0m\u001b[1mDataset Name          \u001b[0m\u001b[1m \u001b[0m┃\u001b[1m \u001b[0m\u001b[1mDescription                                                      \u001b[0m\u001b[1m \u001b[0m┃\u001b[1m \u001b[0m\u001b[1mTags          \u001b[0m\u001b[1m \u001b[0m┃\n",
       "┡━━━━━━━━━━━━━━━━━━━━━━━━╇━━━━━━━━━━━━━━━━━━━━━━━━━━━━━━━━━━━━━━━━━━━━━━━━━━━━━━━━━━━━━━━━━━━╇━━━━━━━━━━━━━━━━┩\n",
       "│ ECCO-NASA-V4           │ NASA Hosted ECCO V4 Dataset                                       │ OCEAN, CLIMATE │\n",
       "│ SSH_mon_mean_wcak3     │ Replica available in storage e5e8d69d-b6bb-4d9c-8902-de55746f2ec2 │ CUSTOM         │\n",
       "│ Metadata_For_SSH_wcak3 │ Replica available in storage e5e8d69d-b6bb-4d9c-8902-de55746f2ec2 │ CUSTOM         │\n",
       "│ SSH_mon_mean_wcak3     │ Replica available in storage 96fef31e-cf07-4170-b5f5-eca6ac86964f │ CUSTOM         │\n",
       "└────────────────────────┴───────────────────────────────────────────────────────────────────┴────────────────┘\n"
      ]
     },
     "metadata": {},
     "output_type": "display_data"
    }
   ],
   "source": [
    "datasets.list_datasets()"
   ]
  },
  {
   "cell_type": "markdown",
   "id": "ae19adf6",
   "metadata": {},
   "source": [
    "## Analysis on Datasets\n",
    "\n",
    "#### Integration with https://ecco-v4-python-tutorial.readthedocs.io/ecco_budgets.html"
   ]
  },
  {
   "cell_type": "code",
   "execution_count": 43,
   "id": "4bff017a",
   "metadata": {},
   "outputs": [],
   "source": [
    "import sys\n",
    "sys.path.append('/Users/dwannipu/code/ecco/ECCOv4-py')\n",
    "from xmitgcm import open_mdsdataset\n",
    "import ecco_v4_py as ecco\n",
    "import numpy as np\n",
    "import xarray as xr\n",
    "import matplotlib.pyplot as plt"
   ]
  },
  {
   "cell_type": "code",
   "execution_count": 44,
   "id": "33ee97cd",
   "metadata": {},
   "outputs": [
    {
     "name": "stdout",
     "output_type": "stream",
     "text": [
      "\n",
      "Processed 48 files. Completed 48, Failed 0.\n",
      "\n",
      "Processed 6 files. Completed 6, Failed 0.\n",
      "<xarray.Dataset>\n",
      "Dimensions:  (i: 90, i_g: 90, j: 90, j_g: 90, k: 50, k_u: 50, k_l: 50,\n",
      "              k_p1: 51, tile: 13, time: 28)\n",
      "Coordinates: (12/41)\n",
      "  * i        (i) int64 0 1 2 3 4 5 6 7 8 9 10 ... 80 81 82 83 84 85 86 87 88 89\n",
      "  * i_g      (i_g) int64 0 1 2 3 4 5 6 7 8 9 ... 80 81 82 83 84 85 86 87 88 89\n",
      "  * j        (j) int64 0 1 2 3 4 5 6 7 8 9 10 ... 80 81 82 83 84 85 86 87 88 89\n",
      "  * j_g      (j_g) int64 0 1 2 3 4 5 6 7 8 9 ... 80 81 82 83 84 85 86 87 88 89\n",
      "  * k        (k) int64 0 1 2 3 4 5 6 7 8 9 10 ... 40 41 42 43 44 45 46 47 48 49\n",
      "  * k_u      (k_u) int64 0 1 2 3 4 5 6 7 8 9 ... 40 41 42 43 44 45 46 47 48 49\n",
      "    ...       ...\n",
      "    maskC    (k, tile, j, i) bool dask.array<chunksize=(1, 1, 90, 90), meta=np.ndarray>\n",
      "    maskW    (k, tile, j, i_g) bool dask.array<chunksize=(1, 1, 90, 90), meta=np.ndarray>\n",
      "    maskS    (k, tile, j_g, i) bool dask.array<chunksize=(1, 1, 90, 90), meta=np.ndarray>\n",
      "    rhoRef   (k) >f4 dask.array<chunksize=(50,), meta=np.ndarray>\n",
      "    iter     (time) int64 dask.array<chunksize=(1,), meta=np.ndarray>\n",
      "  * time     (time) datetime64[ns] 1992-02-01 1992-03-01 ... 1994-05-01\n",
      "Data variables:\n",
      "    SSH      (time, tile, j, i) float32 dask.array<chunksize=(1, 1, 90, 90), meta=np.ndarray>\n",
      "Attributes:\n",
      "    Conventions:  CF-1.6\n",
      "    title:        netCDF wrapper of MITgcm MDS binary data\n",
      "    source:       MITgcm\n",
      "    history:      Created by calling `open_mdsdataset(grid_dir='/Users/dwanni...\n"
     ]
    },
    {
     "data": {
      "image/png": "[encoded data removed]",
      "text/plain": [
       "<Figure size 600x600 with 1 Axes>"
      ]
     },
     "metadata": {},
     "output_type": "display_data"
    }
   ],
   "source": [
    "diags_dir = \"/Users/dwannipu/Downloads/data_ssh\"\n",
    "metadata_dir = \"/Users/dwannipu/Downloads/run_ssh\"\n",
    "\n",
    "datasets.get_dataset(\"Metadata_For_SSH_wcak3\", diags_dir)\n",
    "datasets.get_dataset(\"SSH_mon_mean_wcak3\", metadata_dir)\n",
    "\n",
    "ds = open_mdsdataset(diags_dir, metadata_dir, geometry=\"llc\", delta_t=3600, ref_date=\"1992-01-01T12:00:00\")\n",
    "\n",
    "ds = ds.rename({'face':'tile'}) \n",
    "print(ds)\n",
    "variable = \"SSH\"\n",
    "\n",
    "plts = eval(f\"ds.{variable}.plot(figsize=(6,6))\")"
   ]
  },
  {
   "cell_type": "markdown",
   "id": "471924ee",
   "metadata": {},
   "source": [
    "## Cleaning Up"
   ]
  },
  {
   "cell_type": "code",
   "execution_count": null,
   "id": "9afb8f51",
   "metadata": {},
   "outputs": [],
   "source": [
    "executions.kill_execution(\"4asy9\")"
   ]
  }
 ],
 "metadata": {
  "kernelspec": {
   "display_name": "Python 3 (ipykernel)",
   "language": "python",
   "name": "python3"
  },
  "language_info": {
   "codemirror_mode": {
    "name": "ipython",
    "version": 3
   },
   "file_extension": ".py",
   "mimetype": "text/x-python",
   "name": "python",
   "nbconvert_exporter": "python",
   "pygments_lexer": "ipython3",
   "version": "3.10.8"
  }
 },
 "nbformat": 4,
 "nbformat_minor": 5
}
