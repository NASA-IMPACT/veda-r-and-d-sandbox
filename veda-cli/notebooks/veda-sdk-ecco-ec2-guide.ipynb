{
 "cells": [
  {
   "cell_type": "code",
   "execution_count": null,
   "id": "3205b5f6",
   "metadata": {},
   "outputs": [],
   "source": [
    "# Run only if you haven't installed the VEDA SDK\n",
    "! pip3.10 install veda-cli"
   ]
  },
  {
   "cell_type": "code",
   "execution_count": 1,
   "id": "7ef30704",
   "metadata": {},
   "outputs": [],
   "source": [
    "import veda_cli.applications.ecco.ecco_app as ecco_app\n",
    "import veda_cli.applications as applications\n",
    "import veda_cli.executions as executions\n",
    "import veda_cli.datasets as datasets"
   ]
  },
  {
   "cell_type": "code",
   "execution_count": 2,
   "id": "bccec475",
   "metadata": {},
   "outputs": [
    {
     "data": {
      "text/html": [
       "<pre style=\"white-space:pre;overflow-x:auto;line-height:normal;font-family:Menlo,'DejaVu Sans Mono',consolas,'Courier New',monospace\">┏━━━━━━━━━━━━━━┳━━━━━━━━━━━━━━━━━━━━━━━━━━━━━┳━━━━━━━━━━━━━━━━┓\n",
       "┃<span style=\"font-weight: bold\"> Dataset Name </span>┃<span style=\"font-weight: bold\"> Description                 </span>┃<span style=\"font-weight: bold\"> Tags           </span>┃\n",
       "┡━━━━━━━━━━━━━━╇━━━━━━━━━━━━━━━━━━━━━━━━━━━━━╇━━━━━━━━━━━━━━━━┩\n",
       "│ ECCO-NASA-V4 │ NASA Hosted ECCO V4 Dataset │ OCEAN, CLIMATE │\n",
       "└──────────────┴─────────────────────────────┴────────────────┘\n",
       "</pre>\n"
      ],
      "text/plain": [
       "┏━━━━━━━━━━━━━━┳━━━━━━━━━━━━━━━━━━━━━━━━━━━━━┳━━━━━━━━━━━━━━━━┓\n",
       "┃\u001b[1m \u001b[0m\u001b[1mDataset Name\u001b[0m\u001b[1m \u001b[0m┃\u001b[1m \u001b[0m\u001b[1mDescription                \u001b[0m\u001b[1m \u001b[0m┃\u001b[1m \u001b[0m\u001b[1mTags          \u001b[0m\u001b[1m \u001b[0m┃\n",
       "┡━━━━━━━━━━━━━━╇━━━━━━━━━━━━━━━━━━━━━━━━━━━━━╇━━━━━━━━━━━━━━━━┩\n",
       "│ ECCO-NASA-V4 │ NASA Hosted ECCO V4 Dataset │ OCEAN, CLIMATE │\n",
       "└──────────────┴─────────────────────────────┴────────────────┘\n"
      ]
     },
     "metadata": {},
     "output_type": "display_data"
    }
   ],
   "source": [
    "datasets.list()"
   ]
  },
  {
   "cell_type": "code",
   "execution_count": 3,
   "id": "7b1e45ee",
   "metadata": {},
   "outputs": [
    {
     "data": {
      "text/html": [
       "<pre style=\"white-space:pre;overflow-x:auto;line-height:normal;font-family:Menlo,'DejaVu Sans Mono',consolas,'Courier New',monospace\">┏━━━━━━━━━━━━━━━━━━┳━━━━━━━━━━━━━━━━━━━━━━━━━━━━━━━━━━━━━━━━━━━━━━━━━━━━━┳━━━━━━━━━━━━━━━━━━━━━┓\n",
       "┃<span style=\"font-weight: bold\"> Application Name </span>┃<span style=\"font-weight: bold\"> Description                                         </span>┃<span style=\"font-weight: bold\">        Tags         </span>┃\n",
       "┡━━━━━━━━━━━━━━━━━━╇━━━━━━━━━━━━━━━━━━━━━━━━━━━━━━━━━━━━━━━━━━━━━━━━━━━━━╇━━━━━━━━━━━━━━━━━━━━━┩\n",
       "│ ECCO             │ Estimating the Circulation and Climate of the Ocean │   OCEAN, CLIMATE    │\n",
       "│ WRF              │ Weather Research &amp; Forecasting Model                │ WEATHER, FORCASTING │\n",
       "└──────────────────┴─────────────────────────────────────────────────────┴─────────────────────┘\n",
       "</pre>\n"
      ],
      "text/plain": [
       "┏━━━━━━━━━━━━━━━━━━┳━━━━━━━━━━━━━━━━━━━━━━━━━━━━━━━━━━━━━━━━━━━━━━━━━━━━━┳━━━━━━━━━━━━━━━━━━━━━┓\n",
       "┃\u001b[1m \u001b[0m\u001b[1mApplication Name\u001b[0m\u001b[1m \u001b[0m┃\u001b[1m \u001b[0m\u001b[1mDescription                                        \u001b[0m\u001b[1m \u001b[0m┃\u001b[1m \u001b[0m\u001b[1m       Tags        \u001b[0m\u001b[1m \u001b[0m┃\n",
       "┡━━━━━━━━━━━━━━━━━━╇━━━━━━━━━━━━━━━━━━━━━━━━━━━━━━━━━━━━━━━━━━━━━━━━━━━━━╇━━━━━━━━━━━━━━━━━━━━━┩\n",
       "│ ECCO             │ Estimating the Circulation and Climate of the Ocean │   OCEAN, CLIMATE    │\n",
       "│ WRF              │ Weather Research & Forecasting Model                │ WEATHER, FORCASTING │\n",
       "└──────────────────┴─────────────────────────────────────────────────────┴─────────────────────┘\n"
      ]
     },
     "metadata": {},
     "output_type": "display_data"
    }
   ],
   "source": [
    "applications.list()"
   ]
  },
  {
   "cell_type": "code",
   "execution_count": null,
   "id": "972209d0",
   "metadata": {},
   "outputs": [],
   "source": [
    "ecco_configs = {}\n",
    "ecco_configs['time_step'] =  3600\n",
    "ecco_configs['total_time_steps'] = 227903\n",
    "ecco_configs['gravity'] = 9.81\n",
    "ecco_configs['rhonil']= 1029\n",
    "ecco_configs['dataset_name'] = \"ECCO-NASA-V4\""
   ]
  },
  {
   "cell_type": "code",
   "execution_count": null,
   "id": "a6856852",
   "metadata": {},
   "outputs": [],
   "source": [
    "ecco_app.run_ecco_on_ec2(ecco_configs)"
   ]
  },
  {
   "cell_type": "code",
   "execution_count": null,
   "id": "eea100f5",
   "metadata": {},
   "outputs": [],
   "source": [
    "executions.list()"
   ]
  },
  {
   "cell_type": "code",
   "execution_count": null,
   "id": "9afb8f51",
   "metadata": {},
   "outputs": [],
   "source": [
    "executions.kill_execution(\"db4yn\")"
   ]
  }
 ],
 "metadata": {
  "kernelspec": {
   "display_name": "Python 3 (ipykernel)",
   "language": "python",
   "name": "python3"
  },
  "language_info": {
   "codemirror_mode": {
    "name": "ipython",
    "version": 3
   },
   "file_extension": ".py",
   "mimetype": "text/x-python",
   "name": "python",
   "nbconvert_exporter": "python",
   "pygments_lexer": "ipython3",
   "version": "3.10.0"
  }
 },
 "nbformat": 4,
 "nbformat_minor": 5
}
